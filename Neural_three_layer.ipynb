{
  "nbformat": 4,
  "nbformat_minor": 0,
  "metadata": {
    "colab": {
      "name": "Neural-three-layer.ipynb",
      "provenance": [],
      "collapsed_sections": [],
      "authorship_tag": "ABX9TyOUaMrD2Kd/SlcbvtqmSl9C",
      "include_colab_link": true
    },
    "kernelspec": {
      "name": "python3",
      "display_name": "Python 3"
    }
  },
  "cells": [
    {
      "cell_type": "markdown",
      "metadata": {
        "id": "view-in-github",
        "colab_type": "text"
      },
      "source": [
        "<a href=\"https://colab.research.google.com/github/tobby48/machine-learning/blob/master/Neural_three_layer.ipynb\" target=\"_parent\"><img src=\"https://colab.research.google.com/assets/colab-badge.svg\" alt=\"Open In Colab\"/></a>"
      ]
    },
    {
      "cell_type": "markdown",
      "metadata": {
        "id": "lfBVaryx62Er",
        "colab_type": "text"
      },
      "source": [
        "## Neural Network 3 Layer 만들기"
      ]
    },
    {
      "cell_type": "code",
      "metadata": {
        "id": "byHN5zcm60mh",
        "colab_type": "code",
        "colab": {}
      },
      "source": [
        "# -*- coding: utf-8 -*-\n",
        "\n",
        "#%% 모듈 import\n",
        "import numpy as np"
      ],
      "execution_count": 0,
      "outputs": []
    },
    {
      "cell_type": "code",
      "metadata": {
        "id": "vuPrlqTD7Duq",
        "colab_type": "code",
        "colab": {}
      },
      "source": [
        "#%%\n",
        "def sigmoid(x):\n",
        "    return 1/(1+np.exp(-x))"
      ],
      "execution_count": 0,
      "outputs": []
    },
    {
      "cell_type": "code",
      "metadata": {
        "id": "VvC_ABlz7EFq",
        "colab_type": "code",
        "outputId": "364884fe-19c7-4ef5-9c7c-14adc7737acd",
        "colab": {
          "base_uri": "https://localhost:8080/",
          "height": 731
        }
      },
      "source": [
        "#%% 첫번째 은닉층 계산\n",
        "X = np.array([1.0, 0.5])\n",
        "W1 = np.array([[0.1, 0.3, 0.5], [0.2, 0.4, 0.6]])\n",
        "B1 = np.array([0.1, 0.2, 0.3])"
      ],
      "execution_count": 0,
      "outputs": [
        {
          "output_type": "stream",
          "text": [
            "[-5.00000000e+00 -4.90000000e+00 -4.80000000e+00 -4.70000000e+00\n",
            " -4.60000000e+00 -4.50000000e+00 -4.40000000e+00 -4.30000000e+00\n",
            " -4.20000000e+00 -4.10000000e+00 -4.00000000e+00 -3.90000000e+00\n",
            " -3.80000000e+00 -3.70000000e+00 -3.60000000e+00 -3.50000000e+00\n",
            " -3.40000000e+00 -3.30000000e+00 -3.20000000e+00 -3.10000000e+00\n",
            " -3.00000000e+00 -2.90000000e+00 -2.80000000e+00 -2.70000000e+00\n",
            " -2.60000000e+00 -2.50000000e+00 -2.40000000e+00 -2.30000000e+00\n",
            " -2.20000000e+00 -2.10000000e+00 -2.00000000e+00 -1.90000000e+00\n",
            " -1.80000000e+00 -1.70000000e+00 -1.60000000e+00 -1.50000000e+00\n",
            " -1.40000000e+00 -1.30000000e+00 -1.20000000e+00 -1.10000000e+00\n",
            " -1.00000000e+00 -9.00000000e-01 -8.00000000e-01 -7.00000000e-01\n",
            " -6.00000000e-01 -5.00000000e-01 -4.00000000e-01 -3.00000000e-01\n",
            " -2.00000000e-01 -1.00000000e-01 -1.77635684e-14  1.00000000e-01\n",
            "  2.00000000e-01  3.00000000e-01  4.00000000e-01  5.00000000e-01\n",
            "  6.00000000e-01  7.00000000e-01  8.00000000e-01  9.00000000e-01\n",
            "  1.00000000e+00  1.10000000e+00  1.20000000e+00  1.30000000e+00\n",
            "  1.40000000e+00  1.50000000e+00  1.60000000e+00  1.70000000e+00\n",
            "  1.80000000e+00  1.90000000e+00  2.00000000e+00  2.10000000e+00\n",
            "  2.20000000e+00  2.30000000e+00  2.40000000e+00  2.50000000e+00\n",
            "  2.60000000e+00  2.70000000e+00  2.80000000e+00  2.90000000e+00\n",
            "  3.00000000e+00  3.10000000e+00  3.20000000e+00  3.30000000e+00\n",
            "  3.40000000e+00  3.50000000e+00  3.60000000e+00  3.70000000e+00\n",
            "  3.80000000e+00  3.90000000e+00  4.00000000e+00  4.10000000e+00\n",
            "  4.20000000e+00  4.30000000e+00  4.40000000e+00  4.50000000e+00\n",
            "  4.60000000e+00  4.70000000e+00  4.80000000e+00  4.90000000e+00]\n",
            "[0.00669285 0.00739154 0.00816257 0.0090133  0.0099518  0.01098694\n",
            " 0.01212843 0.01338692 0.01477403 0.0163025  0.01798621 0.01984031\n",
            " 0.02188127 0.02412702 0.02659699 0.02931223 0.03229546 0.03557119\n",
            " 0.03916572 0.04310725 0.04742587 0.05215356 0.05732418 0.06297336\n",
            " 0.06913842 0.07585818 0.0831727  0.09112296 0.09975049 0.10909682\n",
            " 0.11920292 0.13010847 0.14185106 0.15446527 0.16798161 0.18242552\n",
            " 0.19781611 0.21416502 0.23147522 0.24973989 0.26894142 0.2890505\n",
            " 0.31002552 0.33181223 0.35434369 0.37754067 0.40131234 0.42555748\n",
            " 0.450166   0.47502081 0.5        0.52497919 0.549834   0.57444252\n",
            " 0.59868766 0.62245933 0.64565631 0.66818777 0.68997448 0.7109495\n",
            " 0.73105858 0.75026011 0.76852478 0.78583498 0.80218389 0.81757448\n",
            " 0.83201839 0.84553473 0.85814894 0.86989153 0.88079708 0.89090318\n",
            " 0.90024951 0.90887704 0.9168273  0.92414182 0.93086158 0.93702664\n",
            " 0.94267582 0.94784644 0.95257413 0.95689275 0.96083428 0.96442881\n",
            " 0.96770454 0.97068777 0.97340301 0.97587298 0.97811873 0.98015969\n",
            " 0.98201379 0.9836975  0.98522597 0.98661308 0.98787157 0.98901306\n",
            " 0.9900482  0.9909867  0.99183743 0.99260846]\n"
          ],
          "name": "stdout"
        }
      ]
    },
    {
      "cell_type": "code",
      "metadata": {
        "id": "BBmE0e6p7EOB",
        "colab_type": "code",
        "outputId": "e4ae7ec7-5792-4662-9dbe-040a12d368cb",
        "colab": {
          "base_uri": "https://localhost:8080/",
          "height": 281
        }
      },
      "source": [
        "#%% \n",
        "A1 = np.dot(X, W1) + B1\n",
        "Z1 = sigmoid(A1)\n",
        "Z1"
      ],
      "execution_count": 0,
      "outputs": [
        {
          "output_type": "display_data",
          "data": {
            "image/png": "[encoded data removed]",
            "text/plain": [
              "<Figure size 432x288 with 1 Axes>"
            ]
          },
          "metadata": {
            "tags": []
          }
        }
      ]
    },
    {
      "cell_type": "code",
      "metadata": {
        "id": "4wPtnmLTC8jc",
        "colab_type": "code",
        "colab": {}
      },
      "source": [
        "#%% 두번째 은닉층 계산\n",
        "W2 = np.array([[0.1, 0.4],[0.2,0.5],[0.3,0.6]])\n",
        "B2 = np.array([0.1, 0.2])"
      ],
      "execution_count": 0,
      "outputs": []
    },
    {
      "cell_type": "code",
      "metadata": {
        "id": "zKVflrp1C-gI",
        "colab_type": "code",
        "colab": {}
      },
      "source": [
        "#%%\n",
        "A2 = np.dot(Z1, W2) + B2\n",
        "Z2 = sigmoid(A2)\n",
        "Z2"
      ],
      "execution_count": 0,
      "outputs": []
    },
    {
      "cell_type": "code",
      "metadata": {
        "id": "fnN3rI3sC__Y",
        "colab_type": "code",
        "colab": {}
      },
      "source": [
        "#%%\n",
        "def identity_function(x):\n",
        "    return x"
      ],
      "execution_count": 0,
      "outputs": []
    },
    {
      "cell_type": "code",
      "metadata": {
        "id": "poRpYKcCDBPn",
        "colab_type": "code",
        "colab": {}
      },
      "source": [
        "#%% 출력층 계산\n",
        "W3 = np.array([[0.1, 0.3],[0.2,0.4]])\n",
        "B3 = np.array([0.1,0.2])\n",
        "\n",
        "A3 = np.dot(Z2, W3)+B3\n",
        "Z3 = identity_function(A3)\n",
        "Z3"
      ],
      "execution_count": 0,
      "outputs": []
    },
    {
      "cell_type": "code",
      "metadata": {
        "id": "-xtNlVQUDEnO",
        "colab_type": "code",
        "colab": {}
      },
      "source": [
        "#%% 전체코드\n",
        "def init_network():\n",
        "    network = {}\n",
        "    network['W1'] = np.array([[0.1,0.3,0.5],[0.2, 0.4, 0.6]])\n",
        "    network['b1'] = np.array([0.1,0.2,0.3])\n",
        "    network['W2'] = np.array([[0.1,0.4],[0.2,0.5],[0.3,0.6]])\n",
        "    network['b2'] = np.array([[0.1,0.2]])\n",
        "    network['W3'] = np.array([[0.1,0.3],[0.2,0.4]])\n",
        "    network['b3'] = np.array([[0.1,0.2]])\n",
        "    return network\n",
        "\n",
        "def foward(network, x):\n",
        "    W1, W2, W3 = network['W1'], network['W2'], network['W3']\n",
        "    b1, b2, b3 = network['b1'], network['b2'], network['b3']\n",
        "    \n",
        "    a1 = np.dot(x, W1) + b1\n",
        "    z1 = sigmoid(a1)\n",
        "    a2 = np.dot(z1, W2) + b2\n",
        "    z2 = sigmoid(a2)\n",
        "    a3 = np.dot(z2, W3) + b3\n",
        "    y = identity_function(a3)\n",
        "    return y\n",
        "\n",
        "network = init_network()\n",
        "x = np.array([1.0, 0.5])\n",
        "y = foward(network, x)\n",
        "print(y)"
      ],
      "execution_count": 0,
      "outputs": []
    }
  ]
}