{
  "nbformat": 4,
  "nbformat_minor": 0,
  "metadata": {
    "colab": {
      "name": "Neural-three-layer.ipynb",
      "provenance": [],
      "collapsed_sections": [],
      "authorship_tag": "ABX9TyOUaMrD2Kd/SlcbvtqmSl9C",
      "include_colab_link": true
    },
    "kernelspec": {
      "name": "python3",
      "display_name": "Python 3"
    }
  },
  "cells": [
    {
      "cell_type": "markdown",
      "metadata": {
        "id": "view-in-github",
        "colab_type": "text"
      },
      "source": [
        "<a href=\"https://colab.research.google.com/github/tobby48/machine-learning/blob/master/Neural_three_layer.ipynb\" target=\"_parent\"><img src=\"https://colab.research.google.com/assets/colab-badge.svg\" alt=\"Open In Colab\"/></a>"
      ]
    },
    {
      "cell_type": "markdown",
      "metadata": {
        "id": "lfBVaryx62Er",
        "colab_type": "text"
      },
      "source": [
        "## Neural Network 3 Layer 만들기"
      ]
    },
    {
      "cell_type": "code",
      "metadata": {
        "id": "byHN5zcm60mh",
        "colab_type": "code",
        "colab": {}
      },
      "source": [
        "# -*- coding: utf-8 -*-\n",
        "\n",
        "#%% 모듈 import\n",
        "import numpy as np"
      ],
      "execution_count": 0,
      "outputs": []
    },
    {
      "cell_type": "code",
      "metadata": {
        "id": "vuPrlqTD7Duq",
        "colab_type": "code",
        "colab": {}
      },
      "source": [
        "#%%\n",
        "def sigmoid(x):\n",
        "    return 1/(1+np.exp(-x))"
      ],
      "execution_count": 0,
      "outputs": []
    },
    {
      "cell_type": "code",
      "metadata": {
        "id": "VvC_ABlz7EFq",
        "colab_type": "code",
        "colab": {}
      },
      "source": [
        "#%% 첫번째 은닉층 계산\n",
        "X = np.array([1.0, 0.5])\n",
        "W1 = np.array([[0.1, 0.3, 0.5], [0.2, 0.4, 0.6]])\n",
        "B1 = np.array([0.1, 0.2, 0.3])"
      ],
      "execution_count": 0,
      "outputs": []
    },
    {
      "cell_type": "code",
      "metadata": {
        "id": "BBmE0e6p7EOB",
        "colab_type": "code",
        "outputId": "97a981fb-de02-46a5-a127-66183aeb12a2",
        "colab": {
          "base_uri": "https://localhost:8080/",
          "height": 34
        }
      },
      "source": [
        "#%% \n",
        "A1 = np.dot(X, W1) + B1\n",
        "Z1 = sigmoid(A1)\n",
        "Z1"
      ],
      "execution_count": 4,
      "outputs": [
        {
          "output_type": "execute_result",
          "data": {
            "text/plain": [
              "array([0.57444252, 0.66818777, 0.75026011])"
            ]
          },
          "metadata": {
            "tags": []
          },
          "execution_count": 4
        }
      ]
    },
    {
      "cell_type": "code",
      "metadata": {
        "id": "4wPtnmLTC8jc",
        "colab_type": "code",
        "colab": {}
      },
      "source": [
        "#%% 두번째 은닉층 계산\n",
        "W2 = np.array([[0.1, 0.4],[0.2,0.5],[0.3,0.6]])\n",
        "B2 = np.array([0.1, 0.2])"
      ],
      "execution_count": 0,
      "outputs": []
    },
    {
      "cell_type": "code",
      "metadata": {
        "id": "zKVflrp1C-gI",
        "colab_type": "code",
        "colab": {
          "base_uri": "https://localhost:8080/",
          "height": 34
        },
        "outputId": "dc689660-3d69-4312-b619-2f53c00e5c16"
      },
      "source": [
        "#%%\n",
        "A2 = np.dot(Z1, W2) + B2\n",
        "Z2 = sigmoid(A2)\n",
        "Z2"
      ],
      "execution_count": 6,
      "outputs": [
        {
          "output_type": "execute_result",
          "data": {
            "text/plain": [
              "array([0.62624937, 0.7710107 ])"
            ]
          },
          "metadata": {
            "tags": []
          },
          "execution_count": 6
        }
      ]
    },
    {
      "cell_type": "code",
      "metadata": {
        "id": "fnN3rI3sC__Y",
        "colab_type": "code",
        "colab": {}
      },
      "source": [
        "#%%\n",
        "def identity_function(x):\n",
        "    return x"
      ],
      "execution_count": 0,
      "outputs": []
    },
    {
      "cell_type": "code",
      "metadata": {
        "id": "poRpYKcCDBPn",
        "colab_type": "code",
        "colab": {
          "base_uri": "https://localhost:8080/",
          "height": 34
        },
        "outputId": "f717f273-b2b8-476f-83e6-cee8adaf3f96"
      },
      "source": [
        "#%% 출력층 계산\n",
        "W3 = np.array([[0.1, 0.3],[0.2,0.4]])\n",
        "B3 = np.array([0.1,0.2])\n",
        "\n",
        "A3 = np.dot(Z2, W3)+B3\n",
        "Z3 = identity_function(A3)\n",
        "Z3"
      ],
      "execution_count": 8,
      "outputs": [
        {
          "output_type": "execute_result",
          "data": {
            "text/plain": [
              "array([0.31682708, 0.69627909])"
            ]
          },
          "metadata": {
            "tags": []
          },
          "execution_count": 8
        }
      ]
    },
    {
      "cell_type": "code",
      "metadata": {
        "id": "-xtNlVQUDEnO",
        "colab_type": "code",
        "colab": {
          "base_uri": "https://localhost:8080/",
          "height": 34
        },
        "outputId": "97b8b1c2-d3a8-4d91-954e-4eab9d9e7c95"
      },
      "source": [
        "#%% 전체코드\n",
        "def init_network():\n",
        "    network = {}\n",
        "    network['W1'] = np.array([[0.1,0.3,0.5],[0.2, 0.4, 0.6]])\n",
        "    network['b1'] = np.array([0.1,0.2,0.3])\n",
        "    network['W2'] = np.array([[0.1,0.4],[0.2,0.5],[0.3,0.6]])\n",
        "    network['b2'] = np.array([[0.1,0.2]])\n",
        "    network['W3'] = np.array([[0.1,0.3],[0.2,0.4]])\n",
        "    network['b3'] = np.array([[0.1,0.2]])\n",
        "    return network\n",
        "\n",
        "def foward(network, x):\n",
        "    W1, W2, W3 = network['W1'], network['W2'], network['W3']\n",
        "    b1, b2, b3 = network['b1'], network['b2'], network['b3']\n",
        "    \n",
        "    a1 = np.dot(x, W1) + b1\n",
        "    z1 = sigmoid(a1)\n",
        "    a2 = np.dot(z1, W2) + b2\n",
        "    z2 = sigmoid(a2)\n",
        "    a3 = np.dot(z2, W3) + b3\n",
        "    y = identity_function(a3)\n",
        "    return y\n",
        "\n",
        "network = init_network()\n",
        "x = np.array([1.0, 0.5])\n",
        "y = foward(network, x)\n",
        "print(y)"
      ],
      "execution_count": 9,
      "outputs": [
        {
          "output_type": "stream",
          "text": [
            "[[0.31682708 0.69627909]]\n"
          ],
          "name": "stdout"
        }
      ]
    }
  ]
}