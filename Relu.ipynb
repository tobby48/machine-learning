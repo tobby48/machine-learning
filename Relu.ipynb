{
  "nbformat": 4,
  "nbformat_minor": 0,
  "metadata": {
    "colab": {
      "name": "Relu.ipynb",
      "provenance": [],
      "collapsed_sections": [],
      "authorship_tag": "ABX9TyNcXrFgwCcwT0ycH4AahjKQ",
      "include_colab_link": true
    },
    "kernelspec": {
      "name": "python3",
      "display_name": "Python 3"
    }
  },
  "cells": [
    {
      "cell_type": "markdown",
      "metadata": {
        "id": "view-in-github",
        "colab_type": "text"
      },
      "source": [
        "<a href=\"https://colab.research.google.com/github/tobby48/machine-learning/blob/master/Relu.ipynb\" target=\"_parent\"><img src=\"https://colab.research.google.com/assets/colab-badge.svg\" alt=\"Open In Colab\"/></a>"
      ]
    },
    {
      "cell_type": "markdown",
      "metadata": {
        "id": "lfBVaryx62Er",
        "colab_type": "text"
      },
      "source": [
        "## 활성화 함수\n",
        "- Relu"
      ]
    },
    {
      "cell_type": "code",
      "metadata": {
        "id": "byHN5zcm60mh",
        "colab_type": "code",
        "colab": {}
      },
      "source": [
        "# -*- coding: utf-8 -*-\n",
        "\n",
        "#%% 모듈 import\n",
        "import numpy as np"
      ],
      "execution_count": 0,
      "outputs": []
    },
    {
      "cell_type": "code",
      "metadata": {
        "id": "vuPrlqTD7Duq",
        "colab_type": "code",
        "colab": {}
      },
      "source": [
        "#%% Relu 공식\n",
        "# Relu 함수는 입력 값이 0 이상이면 입력 값을 그대로 출력하는 함수\n",
        "# 회귀 문제를 다룰 때 주로 사용\n",
        "# np.maximum(0, x) : 0과 x중 큰 수를 리턴\n",
        "def relu(x):\n",
        "    return np.maximum(0, x)"
      ],
      "execution_count": 0,
      "outputs": []
    },
    {
      "cell_type": "code",
      "metadata": {
        "id": "VvC_ABlz7EFq",
        "colab_type": "code",
        "colab": {}
      },
      "source": [
        "#%% x값에 대한 ReLU 함수 결과\n",
        "# numpy.arange([start, ] stop, [step, ] dtype=None)\n",
        "# numpy 모듈의 arange 함수는 반열린구간 [start, stop) 에서 step 의 크기만큼 일정하게 떨어져 있는 숫자들을 array 형태로 반환해 주는 함수\n",
        "x = np.arange(-2.0, 2.0, 0.2)\n",
        "y = relu(x)"
      ],
      "execution_count": 0,
      "outputs": []
    },
    {
      "cell_type": "code",
      "metadata": {
        "id": "BBmE0e6p7EOB",
        "colab_type": "code",
        "outputId": "8dad856d-a951-4703-98fb-7e07c5431f99",
        "colab": {
          "base_uri": "https://localhost:8080/",
          "height": 281
        }
      },
      "source": [
        "#%% ReLU 함수 그래프 표현\n",
        "from matplotlib import pyplot as plt\n",
        "\n",
        "plt.plot(x, y)\n",
        "plt.plot([0,0],[1.0,0.0], ':') # : 문자를 그래프에 표현하는 구간\n",
        "plt.ylim(-0.1, 1.1) # y축 범위 지정\n",
        "plt.title('ReLU Function')\n",
        "plt.show()"
      ],
      "execution_count": 4,
      "outputs": [
        {
          "output_type": "display_data",
          "data": {
            "image/png": "[encoded data removed]",
            "text/plain": [
              "<Figure size 432x288 with 1 Axes>"
            ]
          },
          "metadata": {
            "tags": []
          }
        }
      ]
    }
  ]
}